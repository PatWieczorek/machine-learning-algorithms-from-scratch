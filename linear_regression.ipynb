{
 "cells": [
  {
   "cell_type": "code",
   "execution_count": 1,
   "metadata": {},
   "outputs": [],
   "source": [
    "import pandas as pd\n",
    "import numpy as np\n",
    "import seaborn as sns\n",
    "import matplotlib.pyplot as plt"
   ]
  },
  {
   "cell_type": "code",
   "execution_count": 2,
   "metadata": {},
   "outputs": [
    {
     "data": {
      "text/html": [
       "<div>\n",
       "<style scoped>\n",
       "    .dataframe tbody tr th:only-of-type {\n",
       "        vertical-align: middle;\n",
       "    }\n",
       "\n",
       "    .dataframe tbody tr th {\n",
       "        vertical-align: top;\n",
       "    }\n",
       "\n",
       "    .dataframe thead th {\n",
       "        text-align: right;\n",
       "    }\n",
       "</style>\n",
       "<table border=\"1\" class=\"dataframe\">\n",
       "  <thead>\n",
       "    <tr style=\"text-align: right;\">\n",
       "      <th></th>\n",
       "      <th>carat</th>\n",
       "      <th>cut</th>\n",
       "      <th>color</th>\n",
       "      <th>clarity</th>\n",
       "      <th>depth</th>\n",
       "      <th>table</th>\n",
       "      <th>price</th>\n",
       "      <th>x</th>\n",
       "      <th>y</th>\n",
       "      <th>z</th>\n",
       "    </tr>\n",
       "  </thead>\n",
       "  <tbody>\n",
       "    <tr>\n",
       "      <th>1</th>\n",
       "      <td>0.23</td>\n",
       "      <td>Ideal</td>\n",
       "      <td>E</td>\n",
       "      <td>SI2</td>\n",
       "      <td>61.5</td>\n",
       "      <td>55.0</td>\n",
       "      <td>326</td>\n",
       "      <td>3.95</td>\n",
       "      <td>3.98</td>\n",
       "      <td>2.43</td>\n",
       "    </tr>\n",
       "    <tr>\n",
       "      <th>2</th>\n",
       "      <td>0.21</td>\n",
       "      <td>Premium</td>\n",
       "      <td>E</td>\n",
       "      <td>SI1</td>\n",
       "      <td>59.8</td>\n",
       "      <td>61.0</td>\n",
       "      <td>326</td>\n",
       "      <td>3.89</td>\n",
       "      <td>3.84</td>\n",
       "      <td>2.31</td>\n",
       "    </tr>\n",
       "    <tr>\n",
       "      <th>3</th>\n",
       "      <td>0.23</td>\n",
       "      <td>Good</td>\n",
       "      <td>E</td>\n",
       "      <td>VS1</td>\n",
       "      <td>56.9</td>\n",
       "      <td>65.0</td>\n",
       "      <td>327</td>\n",
       "      <td>4.05</td>\n",
       "      <td>4.07</td>\n",
       "      <td>2.31</td>\n",
       "    </tr>\n",
       "    <tr>\n",
       "      <th>4</th>\n",
       "      <td>0.29</td>\n",
       "      <td>Premium</td>\n",
       "      <td>I</td>\n",
       "      <td>VS2</td>\n",
       "      <td>62.4</td>\n",
       "      <td>58.0</td>\n",
       "      <td>334</td>\n",
       "      <td>4.20</td>\n",
       "      <td>4.23</td>\n",
       "      <td>2.63</td>\n",
       "    </tr>\n",
       "    <tr>\n",
       "      <th>5</th>\n",
       "      <td>0.31</td>\n",
       "      <td>Good</td>\n",
       "      <td>J</td>\n",
       "      <td>SI2</td>\n",
       "      <td>63.3</td>\n",
       "      <td>58.0</td>\n",
       "      <td>335</td>\n",
       "      <td>4.34</td>\n",
       "      <td>4.35</td>\n",
       "      <td>2.75</td>\n",
       "    </tr>\n",
       "  </tbody>\n",
       "</table>\n",
       "</div>"
      ],
      "text/plain": [
       "   carat      cut color clarity  depth  table  price     x     y     z\n",
       "1   0.23    Ideal     E     SI2   61.5   55.0    326  3.95  3.98  2.43\n",
       "2   0.21  Premium     E     SI1   59.8   61.0    326  3.89  3.84  2.31\n",
       "3   0.23     Good     E     VS1   56.9   65.0    327  4.05  4.07  2.31\n",
       "4   0.29  Premium     I     VS2   62.4   58.0    334  4.20  4.23  2.63\n",
       "5   0.31     Good     J     SI2   63.3   58.0    335  4.34  4.35  2.75"
      ]
     },
     "execution_count": 2,
     "metadata": {},
     "output_type": "execute_result"
    }
   ],
   "source": [
    "diamonds = pd.read_csv('data/diamonds.csv', index_col='Unnamed: 0')\n",
    "diamonds.head()"
   ]
  },
  {
   "cell_type": "code",
   "execution_count": 48,
   "metadata": {},
   "outputs": [
    {
     "name": "stdout",
     "output_type": "stream",
     "text": [
      "0 0.23\n",
      "0 3.95\n",
      "-\n",
      "0 0.21\n",
      "0 3.89\n",
      "-\n",
      "0 0.23\n",
      "0 4.05\n",
      "-\n",
      "0 0.29\n",
      "0 4.2\n",
      "-\n",
      "0 0.31\n",
      "0 4.34\n",
      "-\n"
     ]
    }
   ],
   "source": [
    "class myLinearRegression:\n",
    "    def __init__(self):\n",
    "        self.intercept = 0\n",
    "        self.learning_rate = 0.01\n",
    "    \n",
    "    def train(self, data, target, gradient='batch'):\n",
    "        # check size of data and initialize coefs\n",
    "        data_np = np.asarray(data)\n",
    "        try: \n",
    "            self.theta = [0 for i in range(data.shape[1])]\n",
    "        except:\n",
    "            self.theta = [0]\n",
    "        self.batch_gradient_descent(data_np)\n",
    "\n",
    "    def predict_one(self, datum):\n",
    "        prediction = self.intercept\n",
    "        for coef, feature in zip(self.theta, datum):\n",
    "            prediction += coef*feature\n",
    "        return prediction\n",
    "\n",
    "    def predict(self, data):\n",
    "        predictions = []\n",
    "        data_np = np.asarray(data)\n",
    "        for datum in data_np:\n",
    "            predictions.append(self.predict_one(datum))\n",
    "        return pd.Series(predictions)\n",
    "\n",
    "    def cost_function(self, data, target):\n",
    "        cost = 0\n",
    "        data = np.asarray(data)\n",
    "        target = np.asarray(target)\n",
    "        for i in range(len(data)):\n",
    "            cost += (self.predict_one(data[i]) - target[i])**2\n",
    "        return 0.5*cost\n",
    "\n",
    "\n",
    "    def batch_gradient_descent(self, data_np):\n",
    "\n",
    "        for datum in data_np:\n",
    "            for i in range(len(datum)):\n",
    "                print(self.theta[i], datum[i])\n",
    "                #self.theta[i]\n",
    "            print('-')\n",
    "\n",
    "\n",
    "lr = myLinearRegression()\n",
    "lr.train(diamonds[['carat','x']].iloc[:5], diamonds['price'].iloc[:5])\n",
    "\n",
    "#lr.predict(diamonds[['carat']].iloc[:5])\n",
    "#lr.cost_function(diamonds[['carat']].iloc[:5], diamonds['price'].iloc[:5])\n"
   ]
  },
  {
   "cell_type": "code",
   "execution_count": 47,
   "metadata": {},
   "outputs": [
    {
     "name": "stdout",
     "output_type": "stream",
     "text": [
      "0    115.0\n",
      "1    105.0\n",
      "2    115.0\n",
      "3    145.0\n",
      "4    155.0\n",
      "dtype: float64\n"
     ]
    },
    {
     "data": {
      "image/png": "[encoded data removed]",
      "text/plain": [
       "<Figure size 360x360 with 1 Axes>"
      ]
     },
     "metadata": {
      "needs_background": "light"
     },
     "output_type": "display_data"
    }
   ],
   "source": [
    "predictions = lr.predict(diamonds[['carat']])\n",
    "print(predictions.head())\n",
    "sns.relplot(x='carat', y='price', data=diamonds, kind='line')\n",
    "sns.lineplot(x=diamonds['carat'], y=predictions, size=20)\n",
    "plt.show()\n"
   ]
  }
 ],
 "metadata": {
  "interpreter": {
   "hash": "85a855ae83e70dff1f0e3894dd6bba91870d70fe9302aab0ca0d47e116284a5f"
  },
  "kernelspec": {
   "display_name": "Python 3.9.1 64-bit",
   "language": "python",
   "name": "python3"
  },
  "language_info": {
   "codemirror_mode": {
    "name": "ipython",
    "version": 3
   },
   "file_extension": ".py",
   "mimetype": "text/x-python",
   "name": "python",
   "nbconvert_exporter": "python",
   "pygments_lexer": "ipython3",
   "version": "3.9.1"
  },
  "orig_nbformat": 4
 },
 "nbformat": 4,
 "nbformat_minor": 2
}
