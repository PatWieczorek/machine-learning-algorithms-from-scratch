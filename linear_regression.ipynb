{
 "cells": [
  {
   "cell_type": "code",
   "execution_count": 5,
   "metadata": {},
   "outputs": [],
   "source": [
    "import pandas as pd\n",
    "import numpy as np\n",
    "import seaborn as sns\n",
    "from random import randint\n",
    "import matplotlib.pyplot as plt\n",
    "from sklearn.datasets import make_regression"
   ]
  },
  {
   "cell_type": "code",
   "execution_count": 2,
   "metadata": {},
   "outputs": [],
   "source": [
    "data = make_regression(n_samples=1_000, n_features=1, n_targets=1, noise=5)\n",
    "features = data[0]\n",
    "target = data[1]"
   ]
  },
  {
   "cell_type": "code",
   "execution_count": 37,
   "metadata": {},
   "outputs": [
    {
     "name": "stdout",
     "output_type": "stream",
     "text": [
      "COST:  12980.72144995618\n",
      "COST:  12980.72144995618\n",
      "a = 68.79189254314815, b = 0.02222913615011038\n",
      "-\n",
      "Converged after 0 iterations.\n",
      "[0.02222913615011038, 68.79189254314815]\n"
     ]
    }
   ],
   "source": [
    "class myLinearRegression:\n",
    "    def __init__(self, features, target):\n",
    "        \n",
    "        self.alpha = 0.0001\n",
    "        try: \n",
    "            self.theta = [randint(0,1000)/1000 for _ in range(features.shape[1]+1)]\n",
    "        except:\n",
    "            self.theta = [randint(0,1000)/1000, randint(0,1000)/1000]\n",
    "        self.features = np.asarray([np.concatenate(([1], x)) for x in features])\n",
    "        self.target = target\n",
    "        \n",
    "    \n",
    "    def train(self, gradient='batch'):\n",
    "        if gradient == 'stochastic':\n",
    "            self.stochastic_gradient_descent(self.features, self.target)\n",
    "        else:\n",
    "            self.batch_gradient_descent(self.features, self.target)\n",
    "\n",
    "    def predict_one(self, datum):\n",
    "        prediction = 0\n",
    "        for coef, feature in zip(self.theta, datum):\n",
    "            prediction += coef*feature\n",
    "        return prediction\n",
    "\n",
    "    def predict(self, data):\n",
    "        predictions = []\n",
    "        data_np = np.asarray(data)\n",
    "        for datum in data_np:\n",
    "            predictions.append(self.predict_one(datum))\n",
    "        return pd.Series(predictions)\n",
    "\n",
    "    def cost_function(self):\n",
    "        cost = 0\n",
    "        data = self.features\n",
    "        target = self.target\n",
    "        for i in range(len(data)):\n",
    "            h_x = self.predict_one(data[i])\n",
    "            cost += (h_x - target[i])**2\n",
    "        return 0.5*cost\n",
    "\n",
    "\n",
    "    def batch_gradient_descent(self, x, y):\n",
    "        n = 1_000\n",
    "        for iter in range(n):\n",
    "            current_cost = self.cost_function()\n",
    "\n",
    "            for j in range(len(self.theta)):\n",
    "                sum_gradient = 0\n",
    "                for i in range(len(x)):\n",
    "                    h_xi = self.predict_one(x[i])\n",
    "                    sum_gradient += (y[i] - h_xi) * x[i][j]   \n",
    "                             \n",
    "                self.theta[j] += self.alpha * sum_gradient\n",
    "            #print(sum_gradient)\n",
    "            print(\"COST: \", current_cost)\n",
    "            prev_cost = current_cost\n",
    "            current_cost = self.cost_function()\n",
    "            print(f'a = {self.theta[1]}, b = {self.theta[0]}')\n",
    "            print('-')\n",
    "            \n",
    "\n",
    "\n",
    "            if abs(prev_cost-current_cost) < 0.1:\n",
    "                print(f'Converged after {iter} iterations.')\n",
    "                break\n",
    "        \n",
    "        #self.plot_my_line(x, y)\n",
    "         \n",
    "        print(self.theta)\n",
    "    \n",
    "    def stochastic_gradient_descent(self, x, y):\n",
    "        n = 1_000\n",
    "        for iter in range(n):\n",
    "            current_cost = self.cost_function()\n",
    "            for i in range(len(x)):\n",
    "                for j in range(len(self.theta)):\n",
    "                    self.theta[j] += self.alpha * (y[i] - self.predict_one(x[i])) * x[i][j]\n",
    "            #print(self.theta)\n",
    "            current_cost = self.cost_function()\n",
    "            #print(f'a = {self.theta[1]}, b = {self.theta[0]}')\n",
    "            #print('-')\n",
    "            \n",
    "            \n",
    "            prev_cost = current_cost\n",
    "            #if abs(prev_cost-current_cost) < 0.1:\n",
    "            #    print(f'Converged after {iter} iterations.')\n",
    "            #    break\n",
    "        print(\"COST: \", current_cost) \n",
    "        #self.plot_my_line(x, y)\n",
    "\n",
    "\n",
    "\n",
    "    def plot_my_line(self, data, target):\n",
    "        x = np.linspace(np.min(data)*1.2, np.max(data)*1.2, len(data))\n",
    "        #print(f'a = {self.theta[0]}, b = {self.intercept}')\n",
    "        sns.lineplot(x=x, y=x*self.theta[1]+self.theta[0])\n",
    "        sns.scatterplot(x=self.features[:, 1], y=target)\n",
    "\n",
    "lr = myLinearRegression(features[:1000], target[:1000])\n",
    "lr.train(gradient='stochastic')\n",
    "lr.train()"
   ]
  },
  {
   "cell_type": "code",
   "execution_count": 4,
   "metadata": {},
   "outputs": [
    {
     "data": {
      "image/png": "[encoded data removed]",
      "text/plain": [
       "<Figure size 360x360 with 1 Axes>"
      ]
     },
     "metadata": {
      "needs_background": "light"
     },
     "output_type": "display_data"
    }
   ],
   "source": [
    "sns.relplot(x=features.reshape(-1), y=target, kind='scatter')\n",
    "plt.show()"
   ]
  }
 ],
 "metadata": {
  "interpreter": {
   "hash": "85a855ae83e70dff1f0e3894dd6bba91870d70fe9302aab0ca0d47e116284a5f"
  },
  "kernelspec": {
   "display_name": "Python 3.9.1 64-bit",
   "language": "python",
   "name": "python3"
  },
  "language_info": {
   "codemirror_mode": {
    "name": "ipython",
    "version": 3
   },
   "file_extension": ".py",
   "mimetype": "text/x-python",
   "name": "python",
   "nbconvert_exporter": "python",
   "pygments_lexer": "ipython3",
   "version": "3.9.1"
  },
  "orig_nbformat": 4
 },
 "nbformat": 4,
 "nbformat_minor": 2
}
